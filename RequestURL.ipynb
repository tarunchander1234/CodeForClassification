{
 "cells": [
  {
   "cell_type": "code",
   "execution_count": 3,
   "metadata": {},
   "outputs": [
    {
     "name": "stdout",
     "output_type": "stream",
     "text": [
      "{'confidence_scores': {'Cancer': 0.0002637357101775706, 'Non-Cancer': 0.9997362494468689}, 'predicted_labels': ['Non-Cancer']}\n"
     ]
    }
   ],
   "source": [
    "import requests\n",
    "\n",
    "url = \"http://127.0.0.1:8080/predict\"\n",
    "data = {\"text\": \"Title: Comparison of methodologies for the detection of BRAF mutations in bone marrow trephine specimens.Abstract: AIMS: BRAF V600E detection assists in the diagnosis of hairy cell leukaemia (HCL); however, testing practices vary. We evaluated the clinical utility of 5 BRAF mutation testing strategies for use on bone marrow trephines (BMT). METHODS: 11 HCL, 5 HCL 'mimic', 2 treated HCL and 10 normal BMT specimens were tested for mutant BRAF, comparing Sanger sequencing, pyrosequencing, amplicon-based next generation sequencing (NGS), automated (Idylla) PCR and immunohistochemistry (IHC). RESULTS: PCR and IHC were cheaper and identified V600E in 100 % of HCL cases. Pyrosequencing detected the mutation in 91%, NGS in 55% of cases and Sanger sequencing in 27%. All assays gave wild-type BRAF results in HCL mimics and normal BMT samples. CONCLUSIONS: PCR and IHC were most sensitive and cost-effective, but these have limited scope for multiplexing and are likely to be replaced by NGS gene panels or whole genome sequencing in the medium to long term.\"}\n",
    "response = requests.post(url, json=data)\n",
    "\n",
    "print(response.json())"
   ]
  }
 ],
 "metadata": {
  "kernelspec": {
   "display_name": ".venv",
   "language": "python",
   "name": "python3"
  },
  "language_info": {
   "codemirror_mode": {
    "name": "ipython",
    "version": 3
   },
   "file_extension": ".py",
   "mimetype": "text/x-python",
   "name": "python",
   "nbconvert_exporter": "python",
   "pygments_lexer": "ipython3",
   "version": "3.10.10"
  }
 },
 "nbformat": 4,
 "nbformat_minor": 2
}

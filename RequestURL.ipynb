{
 "cells": [
  {
   "cell_type": "code",
   "execution_count": null,
   "metadata": {},
   "outputs": [
    {
     "name": "stdout",
     "output_type": "stream",
     "text": [
      "{'confidence_scores': {'Cancer': 6.277356874306861e-07, 'Non-Cancer': 0.9999994039535522}, 'predicted_labels': ['Non-Cancer']}\n"
     ]
    }
   ],
   "source": [
    "import requests\n",
    "\n",
    "url = \"http://127.0.0.1:8080/predict\"\n",
    "data = {\"text\": \"Title: DMAP1 is an essential regulator of ATM activity and function.Abstract: The hereditary autosomal recessive disease ataxia telangiectasia (A-T) is caused by mutation in the DNA damage kinase ATM. ATM's main function is to orchestrate DNA repair, thereby maintaining genomic stability. ATM activity is increased in response to several stimuli, including ionising radiation (IR) and hypotonic stress. DNMT1-associated protein 1 (DMAP1) is a member of the TIP60-p400 histone acetyl transferase (HAT) complex, which acetylates histone H4 at lysine 16 (H4K16) to affect chromatin relaxation and modulate ATM activation. Here we demonstrate that DMAP1 is required for both modes of ATM activation. Knockdown of DMAP1 impaired IR-induced ATM activation and consequently resulted in radiosensitivity and impaired the G2/M checkpoint. Moreover, DMAP1 was also required for efficient ATM signalling in response to hypotonic stress. Overexpression of DMAP1 increased IR-induced ATM substrate phosphorylation, suggesting that DMAP1 function is rate limiting for ATM signalling. DMAP1 associated with TIP60-dependent HAT activity, and depletion of DMAP1 reduced H4K16 acetylation in response to DNA damage. Treatment with histone deacetylase inhibitors rescued IR-induced ATM signalling in Dmap1-depleted cells. These results suggest that DMAP1 is a critical regulator of ATM activity and function.\"}\n",
    "response = requests.post(url, json=data)\n",
    "\n",
    "print(response.json())"
   ]
  },
  {
   "cell_type": "code",
   "execution_count": null,
   "metadata": {},
   "outputs": [
    {
     "name": "stdout",
     "output_type": "stream",
     "text": [
      "<Response [200]>\n"
     ]
    }
   ],
   "source": [
    "import requests\n",
    "\n",
    "url = \"http://127.0.0.1:8080/ExtractDisease\"\n",
    "data = {\"text\": \"Title: DMAP1 is an essential regulator of ATM activity and function.Abstract: The hereditary autosomal recessive disease ataxia telangiectasia (A-T) is caused by mutation in the DNA damage kinase ATM. ATM's main function is to orchestrate DNA repair, thereby maintaining genomic stability. ATM activity is increased in response to several stimuli, including ionising radiation (IR) and hypotonic stress. DNMT1-associated protein 1 (DMAP1) is a member of the TIP60-p400 histone acetyl transferase (HAT) complex, which acetylates histone H4 at lysine 16 (H4K16) to affect chromatin relaxation and modulate ATM activation. Here we demonstrate that DMAP1 is required for both modes of ATM activation. Knockdown of DMAP1 impaired IR-induced ATM activation and consequently resulted in radiosensitivity and impaired the G2/M checkpoint. Moreover, DMAP1 was also required for efficient ATM signalling in response to hypotonic stress. Overexpression of DMAP1 increased IR-induced ATM substrate phosphorylation, suggesting that DMAP1 function is rate limiting for ATM signalling. DMAP1 associated with TIP60-dependent HAT activity, and depletion of DMAP1 reduced H4K16 acetylation in response to DNA damage. Treatment with histone deacetylase inhibitors rescued IR-induced ATM signalling in Dmap1-depleted cells. These results suggest that DMAP1 is a critical regulator of ATM activity and function.\"}\n",
    "response = requests.post(url, json=data)\n",
    "\n",
    "print(response.json())"
   ]
  }
 ],
 "metadata": {
  "kernelspec": {
   "display_name": "Python 3",
   "language": "python",
   "name": "python3"
  },
  "language_info": {
   "codemirror_mode": {
    "name": "ipython",
    "version": 3
   },
   "file_extension": ".py",
   "mimetype": "text/x-python",
   "name": "python",
   "nbconvert_exporter": "python",
   "pygments_lexer": "ipython3",
   "version": "3.10.10"
  }
 },
 "nbformat": 4,
 "nbformat_minor": 2
}
